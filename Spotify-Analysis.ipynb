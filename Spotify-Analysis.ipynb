{
 "cells": [
  {
   "cell_type": "markdown",
   "source": [
    "# Spotify Analysis"
   ],
   "metadata": {
    "collapsed": false
   },
   "id": "77448c0c35cdd3ba"
  },
  {
   "cell_type": "code",
   "execution_count": 2,
   "outputs": [
    {
     "name": "stdout",
     "output_type": "stream",
     "text": [
      "Requirement already satisfied: numpy in /Users/simon/anaconda3/envs/adpro/lib/python3.10/site-packages (1.26.3)\r\n"
     ]
    }
   ],
   "source": [
    "!pip install numpy"
   ],
   "metadata": {
    "collapsed": false,
    "ExecuteTime": {
     "end_time": "2024-03-01T19:38:53.562626Z",
     "start_time": "2024-03-01T19:38:52.249619Z"
    }
   },
   "id": "dff60209507f279c"
  },
  {
   "cell_type": "code",
   "execution_count": 1,
   "id": "initial_id",
   "metadata": {
    "collapsed": true,
    "ExecuteTime": {
     "end_time": "2024-03-01T19:38:48.937658Z",
     "start_time": "2024-03-01T19:38:48.934461Z"
    }
   },
   "outputs": [],
   "source": [
    "import numpy as np\n",
    "import pandas as pd\n",
    "import matplotlib as plt\n",
    "import seaborn as sns"
   ]
  },
  {
   "cell_type": "code",
   "execution_count": 3,
   "outputs": [],
   "source": [
    "df_tracks = pd.read_csv('/Users/simon/Root/Work/Data Science/Spotify/Data/SpotifyFeatures.csv')"
   ],
   "metadata": {
    "collapsed": false,
    "ExecuteTime": {
     "end_time": "2024-03-01T19:59:31.519220Z",
     "start_time": "2024-03-01T19:59:30.810131Z"
    }
   },
   "id": "669db163842a9310"
  },
  {
   "cell_type": "code",
   "execution_count": 4,
   "outputs": [
    {
     "data": {
      "text/plain": "   genre        artist_name                        track_name  \\\n0  Movie     Henri Salvador       C'est beau de faire un Show   \n1  Movie  Martin & les fées  Perdu d'avance (par Gad Elmaleh)   \n2  Movie    Joseph Williams    Don't Let Me Be Lonely Tonight   \n3  Movie     Henri Salvador    Dis-moi Monsieur Gordon Cooper   \n4  Movie       Fabien Nataf                         Ouverture   \n\n                 track_id  popularity  acousticness  danceability  \\\n0  0BRjO6ga9RKCKjfDqeFgWV           0         0.611         0.389   \n1  0BjC1NfoEOOusryehmNudP           1         0.246         0.590   \n2  0CoSDzoNIKCRs124s9uTVy           3         0.952         0.663   \n3  0Gc6TVm52BwZD07Ki6tIvf           0         0.703         0.240   \n4  0IuslXpMROHdEPvSl1fTQK           4         0.950         0.331   \n\n   duration_ms  energy  instrumentalness key  liveness  loudness   mode  \\\n0        99373   0.910             0.000  C#    0.3460    -1.828  Major   \n1       137373   0.737             0.000  F#    0.1510    -5.559  Minor   \n2       170267   0.131             0.000   C    0.1030   -13.879  Minor   \n3       152427   0.326             0.000  C#    0.0985   -12.178  Major   \n4        82625   0.225             0.123   F    0.2020   -21.150  Major   \n\n   speechiness    tempo time_signature  valence  \n0       0.0525  166.969            4/4    0.814  \n1       0.0868  174.003            4/4    0.816  \n2       0.0362   99.488            5/4    0.368  \n3       0.0395  171.758            4/4    0.227  \n4       0.0456  140.576            4/4    0.390  ",
      "text/html": "<div>\n<style scoped>\n    .dataframe tbody tr th:only-of-type {\n        vertical-align: middle;\n    }\n\n    .dataframe tbody tr th {\n        vertical-align: top;\n    }\n\n    .dataframe thead th {\n        text-align: right;\n    }\n</style>\n<table border=\"1\" class=\"dataframe\">\n  <thead>\n    <tr style=\"text-align: right;\">\n      <th></th>\n      <th>genre</th>\n      <th>artist_name</th>\n      <th>track_name</th>\n      <th>track_id</th>\n      <th>popularity</th>\n      <th>acousticness</th>\n      <th>danceability</th>\n      <th>duration_ms</th>\n      <th>energy</th>\n      <th>instrumentalness</th>\n      <th>key</th>\n      <th>liveness</th>\n      <th>loudness</th>\n      <th>mode</th>\n      <th>speechiness</th>\n      <th>tempo</th>\n      <th>time_signature</th>\n      <th>valence</th>\n    </tr>\n  </thead>\n  <tbody>\n    <tr>\n      <th>0</th>\n      <td>Movie</td>\n      <td>Henri Salvador</td>\n      <td>C'est beau de faire un Show</td>\n      <td>0BRjO6ga9RKCKjfDqeFgWV</td>\n      <td>0</td>\n      <td>0.611</td>\n      <td>0.389</td>\n      <td>99373</td>\n      <td>0.910</td>\n      <td>0.000</td>\n      <td>C#</td>\n      <td>0.3460</td>\n      <td>-1.828</td>\n      <td>Major</td>\n      <td>0.0525</td>\n      <td>166.969</td>\n      <td>4/4</td>\n      <td>0.814</td>\n    </tr>\n    <tr>\n      <th>1</th>\n      <td>Movie</td>\n      <td>Martin &amp; les fées</td>\n      <td>Perdu d'avance (par Gad Elmaleh)</td>\n      <td>0BjC1NfoEOOusryehmNudP</td>\n      <td>1</td>\n      <td>0.246</td>\n      <td>0.590</td>\n      <td>137373</td>\n      <td>0.737</td>\n      <td>0.000</td>\n      <td>F#</td>\n      <td>0.1510</td>\n      <td>-5.559</td>\n      <td>Minor</td>\n      <td>0.0868</td>\n      <td>174.003</td>\n      <td>4/4</td>\n      <td>0.816</td>\n    </tr>\n    <tr>\n      <th>2</th>\n      <td>Movie</td>\n      <td>Joseph Williams</td>\n      <td>Don't Let Me Be Lonely Tonight</td>\n      <td>0CoSDzoNIKCRs124s9uTVy</td>\n      <td>3</td>\n      <td>0.952</td>\n      <td>0.663</td>\n      <td>170267</td>\n      <td>0.131</td>\n      <td>0.000</td>\n      <td>C</td>\n      <td>0.1030</td>\n      <td>-13.879</td>\n      <td>Minor</td>\n      <td>0.0362</td>\n      <td>99.488</td>\n      <td>5/4</td>\n      <td>0.368</td>\n    </tr>\n    <tr>\n      <th>3</th>\n      <td>Movie</td>\n      <td>Henri Salvador</td>\n      <td>Dis-moi Monsieur Gordon Cooper</td>\n      <td>0Gc6TVm52BwZD07Ki6tIvf</td>\n      <td>0</td>\n      <td>0.703</td>\n      <td>0.240</td>\n      <td>152427</td>\n      <td>0.326</td>\n      <td>0.000</td>\n      <td>C#</td>\n      <td>0.0985</td>\n      <td>-12.178</td>\n      <td>Major</td>\n      <td>0.0395</td>\n      <td>171.758</td>\n      <td>4/4</td>\n      <td>0.227</td>\n    </tr>\n    <tr>\n      <th>4</th>\n      <td>Movie</td>\n      <td>Fabien Nataf</td>\n      <td>Ouverture</td>\n      <td>0IuslXpMROHdEPvSl1fTQK</td>\n      <td>4</td>\n      <td>0.950</td>\n      <td>0.331</td>\n      <td>82625</td>\n      <td>0.225</td>\n      <td>0.123</td>\n      <td>F</td>\n      <td>0.2020</td>\n      <td>-21.150</td>\n      <td>Major</td>\n      <td>0.0456</td>\n      <td>140.576</td>\n      <td>4/4</td>\n      <td>0.390</td>\n    </tr>\n  </tbody>\n</table>\n</div>"
     },
     "execution_count": 4,
     "metadata": {},
     "output_type": "execute_result"
    }
   ],
   "source": [
    "df_tracks.head()"
   ],
   "metadata": {
    "collapsed": false,
    "ExecuteTime": {
     "end_time": "2024-03-01T19:59:34.903830Z",
     "start_time": "2024-03-01T19:59:34.876315Z"
    }
   },
   "id": "c02e2711ba8b5cdd"
  },
  {
   "cell_type": "markdown",
   "source": [],
   "metadata": {
    "collapsed": false
   },
   "id": "bfb6c74e23a688af"
  }
 ],
 "metadata": {
  "kernelspec": {
   "display_name": "Python 3",
   "language": "python",
   "name": "python3"
  },
  "language_info": {
   "codemirror_mode": {
    "name": "ipython",
    "version": 2
   },
   "file_extension": ".py",
   "mimetype": "text/x-python",
   "name": "python",
   "nbconvert_exporter": "python",
   "pygments_lexer": "ipython2",
   "version": "2.7.6"
  }
 },
 "nbformat": 4,
 "nbformat_minor": 5
}
